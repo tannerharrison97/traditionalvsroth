{
 "cells": [
  {
   "cell_type": "markdown",
   "id": "31769542-c081-485d-b7ba-2f5e3d3502fa",
   "metadata": {},
   "source": [
    "# The Optimal Allocation Strategy Between Tax Advantaged and Tax Deferred Funds\n",
    "\n",
    "## Introduction\n",
    "In the United States tax code, wage earners have the option to set aside money in either tax deferred or tax advantaged accounts for retirement. A common question is what is the optimal strategy to allocate such funds. The purpose of this paper to model various scenarios to find the opitmal allocation strategies\n",
    "\n",
    "Key words: Roth, Traditional, IRA, 401k, Constrained Optimization"
   ]
  },
  {
   "cell_type": "markdown",
   "id": "96ee4829-dfa0-4549-a1d3-be274f377012",
   "metadata": {},
   "source": [
    "## Definitions\n",
    "* A person works for \\$n > 0 \\$ years.\n",
    "* A person withdraws their retirement funds for \\$m > 0\\$ years.\n",
    "* Let \\$ 0 < r_i < 1\\$ be the interest growth rate in year \\$i\\$\n",
    "* The wage earner earns \\$s_i\\$ in year \\$i\\$ and saves \\$ 0 < p < 1 \\$ percent of their income for retirement\n",
    "* Let \\$T_i(x)\\$ be the taxes owed in year \\$i\\$\n",
    "* Let \\$0 < x_i < 1\\$ be the percentage of retirement savings put towards tax-advantaged (Roth) savings. So \\$1 - x_i\\$ is the savings put towards traditional savings.\n",
    "\n",
    "## Optimization Question\n",
    "  "
   ]
  },
  {
   "cell_type": "code",
   "execution_count": null,
   "id": "b57ea39e-b297-4ef4-963f-2d25bc1a1589",
   "metadata": {},
   "outputs": [],
   "source": []
  },
  {
   "cell_type": "markdown",
   "id": "605d1ce9-48a8-422e-a41f-9e7e0e74f46c",
   "metadata": {},
   "source": [
    "## Iteration 1\n",
    "\n",
    "### Assumptions\n",
    "* Assume that this person starts withdrawing their money immediately after \\$n\\$ years.\n",
    "* Assume that this person wants to end with a balance of \\$0\\$ after \\$ n + m \\$ years.\n",
    "* Assume a constant interest rate. In other words \\$\\forall i,j < n + m, r_i = r_j\\$.\n",
    "* Assume a constant wage for all years.\n",
    "* Assume a constant tax function for all years.\n"
   ]
  },
  {
   "cell_type": "code",
   "execution_count": 3,
   "id": "cceea973-4719-4d48-b629-9971958d7e5d",
   "metadata": {},
   "outputs": [],
   "source": [
    "# Scenario 1\n",
    "n = 40\n",
    "m = 30\n",
    "r = .07 # Average stock market return of .1 minus inflation of .03\n",
    "s = 100000\n",
    "p = .15\n",
    "def T(x):\n",
    "    if x < 29200:\n",
    "        return 0\n",
    "    elif x < 29200 + 23200:\n",
    "        return .1 * (x  - 29200)\n",
    "    elif x < 29200 + 94300:\n",
    "        return .1 * 23200 + .12 * (x - 29200 - 23200)"
   ]
  },
  {
   "cell_type": "code",
   "execution_count": 4,
   "id": "da175370-683f-49f1-b1e9-9fad8a637160",
   "metadata": {},
   "outputs": [],
   "source": [
    "# Strategy 1"
   ]
  },
  {
   "cell_type": "code",
   "execution_count": null,
   "id": "b50f5951-8197-4f91-9660-8f95d3c11b52",
   "metadata": {},
   "outputs": [],
   "source": []
  }
 ],
 "metadata": {
  "kernelspec": {
   "display_name": "Python 3 (ipykernel)",
   "language": "python",
   "name": "python3"
  },
  "language_info": {
   "codemirror_mode": {
    "name": "ipython",
    "version": 3
   },
   "file_extension": ".py",
   "mimetype": "text/x-python",
   "name": "python",
   "nbconvert_exporter": "python",
   "pygments_lexer": "ipython3",
   "version": "3.8.13"
  }
 },
 "nbformat": 4,
 "nbformat_minor": 5
}
